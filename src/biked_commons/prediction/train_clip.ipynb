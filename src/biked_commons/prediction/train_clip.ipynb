{
 "cells": [
  {
   "cell_type": "code",
   "execution_count": 2,
   "id": "451b5622",
   "metadata": {},
   "outputs": [],
   "source": [
    "import torch\n",
    "import torch.nn as nn\n",
    "from sklearn.model_selection import train_test_split\n",
    "\n",
    "import sys\n",
    "sys.path.append(\"../../\")\n",
    "\n",
    "import biked_commons\n",
    "from biked_commons.prediction import clip_predictor, loaders\n",
    "from biked_commons import resource_utils\n",
    "\n",
    "# device = torch.device(\"cuda\" if torch.cuda.is_available() else \"cpu\")\n",
    "device = \"cpu\""
   ]
  },
  {
   "cell_type": "code",
   "execution_count": 3,
   "id": "02b9e93f",
   "metadata": {},
   "outputs": [
    {
     "name": "stdout",
     "output_type": "stream",
     "text": [
      "⚠️  CLIP_X_train.csv not found in datasets folder. Performing first-time download from Harvard Dataverse...\n"
     ]
    },
    {
     "name": "stderr",
     "output_type": "stream",
     "text": [
      "Downloading CLIP_X_train.csv: 100%|██████████| 2.19G/2.19G [28:25<00:00, 1.38MB/s] \n"
     ]
    },
    {
     "name": "stdout",
     "output_type": "stream",
     "text": [
      "✅ Download complete: ../../resources/datasets/split_datasets/CLIP_X_train.csv\n",
      "⚠️  CLIP_Y_train.npy not found in datasets folder. Performing first-time download from Harvard Dataverse...\n"
     ]
    },
    {
     "name": "stderr",
     "output_type": "stream",
     "text": [
      "Downloading CLIP_Y_train.npy: 100%|██████████| 1.33G/1.33G [17:18<00:00, 1.38MB/s]\n"
     ]
    },
    {
     "name": "stdout",
     "output_type": "stream",
     "text": [
      "✅ Download complete: ../../resources/datasets/split_datasets/CLIP_Y_train.npy\n"
     ]
    }
   ],
   "source": [
    "X_tv, Y_tv = loaders.load_clip()"
   ]
  },
  {
   "cell_type": "code",
   "execution_count": null,
   "id": "ab30e5cb",
   "metadata": {},
   "outputs": [],
   "source": [
    "X_tv_tens = torch.tensor(X_tv.values, dtype=torch.float32, device=device)\n",
    "Y_tv_tens = torch.tensor(Y_tv.values, dtype=torch.float32, device=device)\n",
    "mean = X_tv_tens.mean(axis=0)\n",
    "std = X_tv_tens.std(axis=0)"
   ]
  },
  {
   "cell_type": "code",
   "execution_count": 5,
   "id": "3bb2a5aa",
   "metadata": {},
   "outputs": [],
   "source": [
    "X_train, X_val, Y_train, Y_val = train_test_split(X_tv_tens, Y_tv_tens, test_size=0.2, random_state=42)"
   ]
  },
  {
   "cell_type": "code",
   "execution_count": null,
   "id": "50078baa",
   "metadata": {},
   "outputs": [
    {
     "name": "stdout",
     "output_type": "stream",
     "text": [
      "Epoch [10/500], Loss: 3.6706, Val Loss: 1.0024 (Best: 1.0024)\n",
      "Epoch [20/500], Loss: 3.2093, Val Loss: 0.4705 (Best: 0.4547)\n",
      "Epoch [30/500], Loss: 2.3870, Val Loss: 0.3969 (Best: 0.3969)\n",
      "Epoch [40/500], Loss: 2.2113, Val Loss: 0.4355 (Best: 0.3321)\n",
      "Epoch [50/500], Loss: 2.2873, Val Loss: 0.3470 (Best: 0.3103)\n",
      "Epoch [60/500], Loss: 1.4425, Val Loss: 0.3368 (Best: 0.3103)\n",
      "Epoch [70/500], Loss: 1.8420, Val Loss: 0.2951 (Best: 0.2885)\n",
      "Epoch [80/500], Loss: 2.1649, Val Loss: 0.4410 (Best: 0.2885)\n",
      "Epoch [90/500], Loss: 1.9080, Val Loss: 0.3816 (Best: 0.2721)\n",
      "Epoch [100/500], Loss: 1.3815, Val Loss: 0.4398 (Best: 0.2721)\n",
      "Epoch [110/500], Loss: 1.9357, Val Loss: 0.5580 (Best: 0.2721)\n",
      "Epoch [120/500], Loss: 1.7282, Val Loss: 0.3901 (Best: 0.2721)\n",
      "Epoch [130/500], Loss: 1.5907, Val Loss: 0.5393 (Best: 0.2545)\n",
      "Epoch [140/500], Loss: 1.6743, Val Loss: 0.3432 (Best: 0.2545)\n",
      "Epoch [150/500], Loss: 1.7459, Val Loss: 0.3530 (Best: 0.2545)\n",
      "Epoch [160/500], Loss: 1.1400, Val Loss: 0.4068 (Best: 0.2535)\n",
      "Epoch [170/500], Loss: 0.6916, Val Loss: 0.3919 (Best: 0.2535)\n",
      "Epoch [180/500], Loss: 0.9077, Val Loss: 0.2778 (Best: 0.2535)\n",
      "Epoch [190/500], Loss: 1.1332, Val Loss: 0.5319 (Best: 0.2535)\n",
      "Epoch [200/500], Loss: 1.1800, Val Loss: 0.2850 (Best: 0.2535)\n",
      "Epoch [210/500], Loss: 1.0804, Val Loss: 0.2890 (Best: 0.2535)\n",
      "Epoch [220/500], Loss: 1.1970, Val Loss: 0.3027 (Best: 0.2535)\n",
      "Epoch [230/500], Loss: 1.0004, Val Loss: 0.8257 (Best: 0.2535)\n",
      "Epoch [240/500], Loss: 0.6044, Val Loss: 0.2972 (Best: 0.2535)\n",
      "Epoch [250/500], Loss: 1.1721, Val Loss: 0.3012 (Best: 0.2535)\n",
      "Epoch [260/500], Loss: 0.8393, Val Loss: 0.3844 (Best: 0.2535)\n",
      "Epoch [270/500], Loss: 1.3142, Val Loss: 0.3906 (Best: 0.2535)\n",
      "Epoch [280/500], Loss: 0.9606, Val Loss: 0.3639 (Best: 0.2535)\n",
      "Epoch [290/500], Loss: 0.8567, Val Loss: 0.3515 (Best: 0.2535)\n",
      "Epoch [300/500], Loss: 0.8216, Val Loss: 0.3022 (Best: 0.2535)\n",
      "Epoch [310/500], Loss: 1.1457, Val Loss: 0.2664 (Best: 0.2535)\n",
      "Epoch [320/500], Loss: 0.9220, Val Loss: 0.3156 (Best: 0.2535)\n",
      "Epoch [330/500], Loss: 1.0130, Val Loss: 0.2914 (Best: 0.2535)\n",
      "Epoch [340/500], Loss: 0.4642, Val Loss: 0.2998 (Best: 0.2535)\n",
      "Epoch [350/500], Loss: 1.0149, Val Loss: 0.2973 (Best: 0.2535)\n",
      "Epoch [360/500], Loss: 0.8302, Val Loss: 0.2965 (Best: 0.2535)\n",
      "Epoch [370/500], Loss: 0.7509, Val Loss: 0.2875 (Best: 0.2535)\n",
      "Epoch [380/500], Loss: 0.6265, Val Loss: 0.2871 (Best: 0.2535)\n",
      "Epoch [390/500], Loss: 0.6243, Val Loss: 0.2796 (Best: 0.2535)\n",
      "Epoch [400/500], Loss: 0.7490, Val Loss: 0.2651 (Best: 0.2535)\n",
      "Epoch [410/500], Loss: 0.8043, Val Loss: 0.3056 (Best: 0.2535)\n",
      "Epoch [420/500], Loss: 0.9655, Val Loss: 0.2620 (Best: 0.2535)\n",
      "Epoch [430/500], Loss: 0.9165, Val Loss: 0.3018 (Best: 0.2535)\n",
      "Epoch [440/500], Loss: 1.0508, Val Loss: 0.3006 (Best: 0.2535)\n",
      "Epoch [450/500], Loss: 0.7476, Val Loss: 0.2804 (Best: 0.2535)\n",
      "Epoch [460/500], Loss: 1.1662, Val Loss: 0.4471 (Best: 0.2535)\n",
      "Epoch [470/500], Loss: 0.4470, Val Loss: 0.2587 (Best: 0.2535)\n",
      "Epoch [480/500], Loss: 0.6314, Val Loss: 0.2844 (Best: 0.2535)\n",
      "Epoch [490/500], Loss: 0.5716, Val Loss: 0.2988 (Best: 0.2535)\n",
      "Epoch [500/500], Loss: 0.4842, Val Loss: 0.2584 (Best: 0.2535)\n"
     ]
    }
   ],
   "source": [
    "# Define the model, loss function, and optimizer\n",
    "input_dim = X_train.shape[1]\n",
    "output_dim = 1\n",
    "model = clip_predictor.ResidualNetwork(96, 512, 256, 2, 3)\n",
    "\n",
    "criterion = nn.MSELoss()\n",
    "optimizer = torch.optim.Adam(model.parameters(), lr=0.001)\n",
    "\n",
    "# Training loop\n",
    "num_epochs = 500\n",
    "batch_size = 32\n",
    "best_val_loss = float('inf')\n",
    "model_path = resource_utils.resource_path(\"models\")\n",
    "save_path = model_path + '/clip.pth'\n",
    "\n",
    "for epoch in range(num_epochs):\n",
    "    model.train()\n",
    "    permutation = torch.randperm(X_train.size()[0])\n",
    "    \n",
    "    for i in range(0, X_train.size()[0], batch_size):\n",
    "        indices = permutation[i:i + batch_size]\n",
    "        batch_x, batch_y = X_train[indices], Y_train[indices]\n",
    "\n",
    "        optimizer.zero_grad()\n",
    "        outputs = model(batch_x)\n",
    "        loss = criterion(outputs, batch_y)\n",
    "        loss.backward()\n",
    "        optimizer.step()\n",
    "\n",
    "    # Validation\n",
    "    model.eval()\n",
    "    with torch.no_grad():\n",
    "        val_outputs = model(X_val)\n",
    "        val_loss = criterion(val_outputs, Y_val)\n",
    "\n",
    "    # Save best model\n",
    "    if val_loss.item() < best_val_loss:\n",
    "        best_val_loss = val_loss.item()\n",
    "        torch.save(model, save_path)\n",
    "\n",
    "    if (epoch + 1) % 10 == 0:\n",
    "        print(f'Epoch [{epoch + 1}/{num_epochs}], Loss: {loss.item():.4f}, Val Loss: {val_loss.item():.4f} (Best: {best_val_loss:.4f})')\n",
    "\n"
   ]
  },
  {
   "cell_type": "code",
   "execution_count": 7,
   "id": "77130fc6",
   "metadata": {},
   "outputs": [
    {
     "name": "stderr",
     "output_type": "stream",
     "text": [
      "C:\\Users\\Lyler\\AppData\\Local\\Temp\\ipykernel_4384\\1837872702.py:1: FutureWarning: You are using `torch.load` with `weights_only=False` (the current default value), which uses the default pickle module implicitly. It is possible to construct malicious pickle data which will execute arbitrary code during unpickling (See https://github.com/pytorch/pytorch/blob/main/SECURITY.md#untrusted-models for more details). In a future release, the default value for `weights_only` will be flipped to `True`. This limits the functions that could be executed during unpickling. Arbitrary objects will no longer be allowed to be loaded via this mode unless they are explicitly allowlisted by the user via `torch.serialization.add_safe_globals`. We recommend you start setting `weights_only=True` for any use case where you don't have full control of the loaded file. Please open an issue on GitHub for any issues related to this experimental feature.\n",
      "  model = torch.load(save_path)\n"
     ]
    }
   ],
   "source": [
    "model = torch.load(save_path)"
   ]
  },
  {
   "cell_type": "code",
   "execution_count": 10,
   "id": "9030cb21",
   "metadata": {},
   "outputs": [
    {
     "data": {
      "text/plain": [
       "0.9547767043113708"
      ]
     },
     "execution_count": 10,
     "metadata": {},
     "output_type": "execute_result"
    }
   ],
   "source": [
    "import evaluators\n",
    "\n",
    "evaluators.evaluate_aero(model, device=device)"
   ]
  },
  {
   "cell_type": "code",
   "execution_count": 22,
   "id": "c9b01909",
   "metadata": {},
   "outputs": [
    {
     "name": "stderr",
     "output_type": "stream",
     "text": [
      "C:\\Users\\Lyler\\AppData\\Local\\Temp\\ipykernel_34848\\1547622106.py:8: FutureWarning: You are using `torch.load` with `weights_only=False` (the current default value), which uses the default pickle module implicitly. It is possible to construct malicious pickle data which will execute arbitrary code during unpickling (See https://github.com/pytorch/pytorch/blob/main/SECURITY.md#untrusted-models for more details). In a future release, the default value for `weights_only` will be flipped to `True`. This limits the functions that could be executed during unpickling. Arbitrary objects will no longer be allowed to be loaded via this mode unless they are explicitly allowlisted by the user via `torch.serialization.add_safe_globals`. We recommend you start setting `weights_only=True` for any use case where you don't have full control of the loaded file. Please open an issue on GitHub for any issues related to this experimental feature.\n",
      "  ref_model.load_state_dict(torch.load(model_path))\n",
      "c:\\Users\\Lyler\\mambaforge\\envs\\general\\Lib\\site-packages\\sklearn\\base.py:380: InconsistentVersionWarning: Trying to unpickle estimator StandardScaler from version 1.2.2 when using version 1.6.0. This might lead to breaking code or invalid results. Use at your own risk. For more info please refer to:\n",
      "https://scikit-learn.org/stable/model_persistence.html#security-maintainability-limitations\n",
      "  warnings.warn(\n"
     ]
    },
    {
     "ename": "FileNotFoundError",
     "evalue": "[Errno 2] No such file or directory: '../../resources/datasets/split_datasets/CLIP_Y_test.npy'",
     "output_type": "error",
     "traceback": [
      "\u001b[1;31m---------------------------------------------------------------------------\u001b[0m",
      "\u001b[1;31mFileNotFoundError\u001b[0m                         Traceback (most recent call last)",
      "Cell \u001b[1;32mIn[22], line 12\u001b[0m\n\u001b[0;32m     10\u001b[0m     scaler \u001b[38;5;241m=\u001b[39m dill\u001b[38;5;241m.\u001b[39mload(file)\n\u001b[0;32m     11\u001b[0m X_test \u001b[38;5;241m=\u001b[39m pd\u001b[38;5;241m.\u001b[39mread_csv(\u001b[38;5;124m'\u001b[39m\u001b[38;5;124m../../resources/datasets/split_datasets/CLIP_X_test.csv\u001b[39m\u001b[38;5;124m'\u001b[39m, index_col\u001b[38;5;241m=\u001b[39m\u001b[38;5;241m0\u001b[39m)\n\u001b[1;32m---> 12\u001b[0m Y_test \u001b[38;5;241m=\u001b[39m \u001b[43mnp\u001b[49m\u001b[38;5;241;43m.\u001b[39;49m\u001b[43mload\u001b[49m\u001b[43m(\u001b[49m\u001b[38;5;124;43m\"\u001b[39;49m\u001b[38;5;124;43m../../resources/datasets/split_datasets/CLIP_Y_test.npy\u001b[39;49m\u001b[38;5;124;43m\"\u001b[39;49m\u001b[43m)\u001b[49m\n\u001b[0;32m     14\u001b[0m X_test_scaled \u001b[38;5;241m=\u001b[39m scaler\u001b[38;5;241m.\u001b[39mtransform(X_test\u001b[38;5;241m.\u001b[39mvalues)\n\u001b[0;32m     15\u001b[0m Y_pred \u001b[38;5;241m=\u001b[39m ref_model(torch\u001b[38;5;241m.\u001b[39mtensor(X_test_scaled, dtype\u001b[38;5;241m=\u001b[39mtorch\u001b[38;5;241m.\u001b[39mfloat32, device\u001b[38;5;241m=\u001b[39mdevice))\u001b[38;5;241m.\u001b[39mcpu()\u001b[38;5;241m.\u001b[39mdetach()\u001b[38;5;241m.\u001b[39mnumpy()\n",
      "File \u001b[1;32mc:\\Users\\Lyler\\mambaforge\\envs\\general\\Lib\\site-packages\\numpy\\lib\\_npyio_impl.py:451\u001b[0m, in \u001b[0;36mload\u001b[1;34m(file, mmap_mode, allow_pickle, fix_imports, encoding, max_header_size)\u001b[0m\n\u001b[0;32m    449\u001b[0m     own_fid \u001b[38;5;241m=\u001b[39m \u001b[38;5;28;01mFalse\u001b[39;00m\n\u001b[0;32m    450\u001b[0m \u001b[38;5;28;01melse\u001b[39;00m:\n\u001b[1;32m--> 451\u001b[0m     fid \u001b[38;5;241m=\u001b[39m stack\u001b[38;5;241m.\u001b[39menter_context(\u001b[38;5;28;43mopen\u001b[39;49m\u001b[43m(\u001b[49m\u001b[43mos\u001b[49m\u001b[38;5;241;43m.\u001b[39;49m\u001b[43mfspath\u001b[49m\u001b[43m(\u001b[49m\u001b[43mfile\u001b[49m\u001b[43m)\u001b[49m\u001b[43m,\u001b[49m\u001b[43m \u001b[49m\u001b[38;5;124;43m\"\u001b[39;49m\u001b[38;5;124;43mrb\u001b[39;49m\u001b[38;5;124;43m\"\u001b[39;49m\u001b[43m)\u001b[49m)\n\u001b[0;32m    452\u001b[0m     own_fid \u001b[38;5;241m=\u001b[39m \u001b[38;5;28;01mTrue\u001b[39;00m\n\u001b[0;32m    454\u001b[0m \u001b[38;5;66;03m# Code to distinguish from NumPy binary files and pickles.\u001b[39;00m\n",
      "\u001b[1;31mFileNotFoundError\u001b[0m: [Errno 2] No such file or directory: '../../resources/datasets/split_datasets/CLIP_Y_test.npy'"
     ]
    }
   ],
   "source": [
    "import pandas as pd\n",
    "import numpy as np\n",
    "import dill\n",
    "model_path = resource_utils.resource_path(\"models\") + '/clip_old.pt'\n",
    "scaler_path = resource_utils.resource_path(\"models\") + '/clip_old_scaler.pk'\n",
    "\n",
    "ref_model = ResidualNetwork(96, 512, 256, 2, 3)\n",
    "ref_model.load_state_dict(torch.load(model_path))\n",
    "with open(scaler_path, \"rb\") as file:\n",
    "    scaler = dill.load(file)\n",
    "X_test = pd.read_csv('../../resources/datasets/split_datasets/CLIP_X_test.csv', index_col=0)\n",
    "Y_test = np.load(\"../../resources/datasets/split_datasets/CLIP_Y_test.npy\")\n",
    "\n",
    "X_test_scaled = scaler.transform(X_test.values)\n",
    "Y_pred = ref_model(torch.tensor(X_test_scaled, dtype=torch.float32, device=device)).cpu().detach().numpy()\n"
   ]
  },
  {
   "cell_type": "code",
   "execution_count": 20,
   "id": "8e9d9cc8",
   "metadata": {},
   "outputs": [
    {
     "data": {
      "text/plain": [
       "Index(['SSB_Include', 'CSB_Include', 'CS Length', 'BB Drop', 'Stack', 'SS E',\n",
       "       'ST Angle', 'BB OD', 'TT OD', 'HT OD', 'DT OD', 'CS OD', 'SS OD',\n",
       "       'ST OD', 'CS F', 'HT LX', 'ST UX', 'HT UX', 'HT Angle', 'HT Length',\n",
       "       'ST Length', 'BB Length', 'Dropout Offset', 'SSB OD', 'CSB OD',\n",
       "       'Material', 'SSB Offset', 'CSB Offset', 'SS Z', 'SS Thickness',\n",
       "       'CS Thickness', 'TT Thickness', 'BB Thickness', 'HT Thickness',\n",
       "       'ST Thickness', 'DT Thickness', 'DT Length'],\n",
       "      dtype='object')"
      ]
     },
     "execution_count": 20,
     "metadata": {},
     "output_type": "execute_result"
    }
   ],
   "source": [
    "X_test.columns"
   ]
  },
  {
   "cell_type": "code",
   "execution_count": null,
   "id": "2520da23",
   "metadata": {},
   "outputs": [],
   "source": []
  }
 ],
 "metadata": {
  "kernelspec": {
   "display_name": "general",
   "language": "python",
   "name": "python3"
  },
  "language_info": {
   "codemirror_mode": {
    "name": "ipython",
    "version": 3
   },
   "file_extension": ".py",
   "mimetype": "text/x-python",
   "name": "python",
   "nbconvert_exporter": "python",
   "pygments_lexer": "ipython3",
   "version": "3.12.8"
  }
 },
 "nbformat": 4,
 "nbformat_minor": 5
}

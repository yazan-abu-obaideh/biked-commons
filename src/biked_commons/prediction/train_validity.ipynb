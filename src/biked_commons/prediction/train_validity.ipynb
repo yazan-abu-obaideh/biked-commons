{
 "cells": [
  {
   "cell_type": "code",
   "execution_count": 1,
   "id": "451b5622",
   "metadata": {},
   "outputs": [],
   "source": [
    "import torch\n",
    "import pandas as pd\n",
    "import torch.nn as nn\n",
    "from sklearn.model_selection import train_test_split\n",
    "from tqdm import tqdm, trange\n",
    "import dill\n",
    "\n",
    "import sys\n",
    "sys.path.append(\"../../\")\n",
    "\n",
    "import biked_commons\n",
    "from biked_commons.prediction import validity_predictor, loaders\n",
    "from biked_commons.resource_utils import models_and_scalers_path\n",
    "from biked_commons.prediction.prediction_utils import TorchStandardScaler, DNN\n",
    "\n",
    "device = torch.device(\"cuda\" if torch.cuda.is_available() else \"cpu\")"
   ]
  },
  {
   "cell_type": "code",
   "execution_count": 2,
   "id": "02b9e93f",
   "metadata": {},
   "outputs": [],
   "source": [
    "X_tv, Y_tv = loaders.load_validity()\n"
   ]
  },
  {
   "cell_type": "code",
   "execution_count": 3,
   "id": "62d20dfe",
   "metadata": {},
   "outputs": [
    {
     "data": {
      "text/plain": [
       "array([0., 1.])"
      ]
     },
     "execution_count": 3,
     "metadata": {},
     "output_type": "execute_result"
    }
   ],
   "source": [
    "import numpy as np\n",
    "np.unique(Y_tv)"
   ]
  },
  {
   "cell_type": "code",
   "execution_count": 4,
   "id": "3de9841b",
   "metadata": {},
   "outputs": [],
   "source": [
    "X_tv_tens = torch.tensor(X_tv.values.astype(float), dtype=torch.float32, device=device)\n",
    "Y_tv_tens = torch.tensor(Y_tv.values, dtype=torch.float32, device=device)"
   ]
  },
  {
   "cell_type": "code",
   "execution_count": 5,
   "id": "ab30e5cb",
   "metadata": {},
   "outputs": [
    {
     "name": "stderr",
     "output_type": "stream",
     "text": [
      "C:\\Users\\Lyler\\AppData\\Local\\Temp\\ipykernel_35708\\3822720202.py:8: UserWarning: To copy construct from a tensor, it is recommended to use sourceTensor.clone().detach() or sourceTensor.clone().detach().requires_grad_(True), rather than torch.tensor(sourceTensor).\n",
      "  X_tv_tens = torch.tensor(scaler.transform(X_tv_tens), dtype=torch.float32, device=device)\n"
     ]
    }
   ],
   "source": [
    "scaler = TorchStandardScaler().to(device)\n",
    "scaler.fit(X_tv_tens)\n",
    "\n",
    "\n",
    "scaler_path = models_and_scalers_path(\"validity_scaler.pt\")\n",
    "torch.save(scaler, scaler_path)\n",
    "\n",
    "X_tv_tens = torch.tensor(scaler.transform(X_tv_tens), dtype=torch.float32, device=device)"
   ]
  },
  {
   "cell_type": "code",
   "execution_count": 6,
   "id": "3bb2a5aa",
   "metadata": {},
   "outputs": [],
   "source": [
    "X_train, X_val, Y_train, Y_val = train_test_split(X_tv_tens, Y_tv_tens, test_size=0.2, random_state=42)"
   ]
  },
  {
   "cell_type": "code",
   "execution_count": 7,
   "id": "50078baa",
   "metadata": {},
   "outputs": [
    {
     "name": "stderr",
     "output_type": "stream",
     "text": [
      "Training: 100%|██████████| 5/5 [00:04<00:00,  1.12it/s, loss=0.0089, val_loss=0.0504, best_val=0.0481]\n"
     ]
    }
   ],
   "source": [
    "# Define the model, loss function, and optimizer\n",
    "input_dim = X_train.shape[1]\n",
    "output_dim = 1\n",
    "model = DNN(input_dim).to(device)\n",
    "\n",
    "criterion = nn.BCEWithLogitsLoss()\n",
    "optimizer = torch.optim.Adam(model.parameters(), lr=0.001)\n",
    "\n",
    "# Training loop\n",
    "num_epochs = 5\n",
    "batch_size = 32\n",
    "best_val_loss = float('inf')\n",
    "best_model = None\n",
    "\n",
    "bar = trange(num_epochs, desc=\"Training\")\n",
    "for epoch in bar:\n",
    "    model.train()\n",
    "    permutation = torch.randperm(X_train.size(0))\n",
    "    for i in range(0, X_train.size(0), batch_size):\n",
    "        indices = permutation[i : i + batch_size]\n",
    "        batch_x, batch_y = X_train[indices], Y_train[indices]\n",
    "\n",
    "        optimizer.zero_grad()\n",
    "        outputs = model(batch_x)\n",
    "        loss = criterion(outputs, batch_y)\n",
    "        loss.backward()\n",
    "        optimizer.step()\n",
    "\n",
    "    model.eval()\n",
    "    with torch.no_grad():\n",
    "        val_outputs = model(X_val)\n",
    "        val_loss = criterion(val_outputs, Y_val)\n",
    "\n",
    "    if val_loss.item() < best_val_loss:\n",
    "        best_val_loss = val_loss.item()\n",
    "        best_model = model\n",
    "\n",
    "    bar.set_postfix({\n",
    "        'loss': f'{loss.item():.4f}',\n",
    "        'val_loss': f'{val_loss.item():.4f}',\n",
    "        'best_val': f'{best_val_loss:.4f}'\n",
    "    })\n",
    "\n"
   ]
  },
  {
   "cell_type": "code",
   "execution_count": 8,
   "id": "51ec5be1",
   "metadata": {},
   "outputs": [],
   "source": [
    "save_path = models_and_scalers_path(\"validity_model.pt\")\n",
    "torch.save(best_model, save_path)"
   ]
  },
  {
   "cell_type": "code",
   "execution_count": 9,
   "id": "77130fc6",
   "metadata": {},
   "outputs": [
    {
     "name": "stderr",
     "output_type": "stream",
     "text": [
      "C:\\Users\\Lyler\\AppData\\Local\\Temp\\ipykernel_35708\\1837872702.py:1: FutureWarning: You are using `torch.load` with `weights_only=False` (the current default value), which uses the default pickle module implicitly. It is possible to construct malicious pickle data which will execute arbitrary code during unpickling (See https://github.com/pytorch/pytorch/blob/main/SECURITY.md#untrusted-models for more details). In a future release, the default value for `weights_only` will be flipped to `True`. This limits the functions that could be executed during unpickling. Arbitrary objects will no longer be allowed to be loaded via this mode unless they are explicitly allowlisted by the user via `torch.serialization.add_safe_globals`. We recommend you start setting `weights_only=True` for any use case where you don't have full control of the loaded file. Please open an issue on GitHub for any issues related to this experimental feature.\n",
      "  model = torch.load(save_path)\n"
     ]
    }
   ],
   "source": [
    "model = torch.load(save_path)"
   ]
  },
  {
   "cell_type": "code",
   "execution_count": 10,
   "id": "9030cb21",
   "metadata": {},
   "outputs": [
    {
     "name": "stderr",
     "output_type": "stream",
     "text": [
      "c:\\Users\\Lyler\\Documents\\biked-commons\\src\\biked_commons\\prediction\\../..\\biked_commons\\prediction\\validity_predictor.py:14: FutureWarning: You are using `torch.load` with `weights_only=False` (the current default value), which uses the default pickle module implicitly. It is possible to construct malicious pickle data which will execute arbitrary code during unpickling (See https://github.com/pytorch/pytorch/blob/main/SECURITY.md#untrusted-models for more details). In a future release, the default value for `weights_only` will be flipped to `True`. This limits the functions that could be executed during unpickling. Arbitrary objects will no longer be allowed to be loaded via this mode unless they are explicitly allowlisted by the user via `torch.serialization.add_safe_globals`. We recommend you start setting `weights_only=True` for any use case where you don't have full control of the loaded file. Please open an issue on GitHub for any issues related to this experimental feature.\n",
      "  self.scaler: TorchStandardScaler = torch.load(scaler_path, map_location=self.device)\n"
     ]
    },
    {
     "data": {
      "text/plain": [
       "0.4186046511627907"
      ]
     },
     "execution_count": 10,
     "metadata": {},
     "output_type": "execute_result"
    }
   ],
   "source": [
    "import evaluators\n",
    "\n",
    "evaluators.evaluate_validity(model, validity_predictor.ValidityPreprocessor(device), device=device)"
   ]
  },
  {
   "cell_type": "code",
   "execution_count": null,
   "id": "2520da23",
   "metadata": {},
   "outputs": [],
   "source": []
  }
 ],
 "metadata": {
  "kernelspec": {
   "display_name": "torch",
   "language": "python",
   "name": "python3"
  },
  "language_info": {
   "codemirror_mode": {
    "name": "ipython",
    "version": 3
   },
   "file_extension": ".py",
   "mimetype": "text/x-python",
   "name": "python",
   "nbconvert_exporter": "python",
   "pygments_lexer": "ipython3",
   "version": "3.12.8"
  }
 },
 "nbformat": 4,
 "nbformat_minor": 5
}

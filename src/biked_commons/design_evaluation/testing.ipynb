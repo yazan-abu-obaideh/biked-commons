{
 "cells": [
  {
   "cell_type": "code",
   "execution_count": 1,
   "id": "f43f23b9",
   "metadata": {},
   "outputs": [],
   "source": [
    "import pandas as pd\n",
    "import numpy as np\n",
    "import torch\n",
    "import os\n",
    "import sys\n",
    "from tqdm import tqdm, trange\n",
    "\n",
    "sys.path.append(\"../../\")\n",
    "import biked_commons\n",
    "from biked_commons.design_evaluation.design_evaluation import *"
   ]
  },
  {
   "cell_type": "code",
   "execution_count": 2,
   "id": "1d9cef99",
   "metadata": {},
   "outputs": [],
   "source": [
    "data = pd.read_csv(\"../../resources/datasets/split_datasets/CLIP_X_test.csv\", index_col=0)\n",
    "data1 = torch.tensor(data.iloc[0:1].values)\n",
    "\n",
    "rider_data = pd.read_csv(\"../../resources/datasets/split_datasets/aero_X_test.csv\", index_col=0)\n",
    "rider_data = rider_data[['upper_leg', 'lower_leg', 'arm_length', 'torso_length', 'neck_and_head_length', 'torso_width']]\n",
    "rider1 = torch.tensor(rider_data.iloc[0:1].values)\n",
    "\n",
    "# rider_full = "
   ]
  },
  {
   "cell_type": "code",
   "execution_count": null,
   "id": "3d820086",
   "metadata": {},
   "outputs": [
    {
     "name": "stderr",
     "output_type": "stream",
     "text": [
      "c:\\Users\\Lyler\\mambaforge\\envs\\torch\\Lib\\site-packages\\sklearn\\base.py:380: InconsistentVersionWarning: Trying to unpickle estimator MinMaxScaler from version 1.6.1 when using version 1.6.0. This might lead to breaking code or invalid results. Use at your own risk. For more info please refer to:\n",
      "https://scikit-learn.org/stable/model_persistence.html#security-maintainability-limitations\n",
      "  warnings.warn(\n",
      "c:\\Users\\Lyler\\Documents\\biked-commons\\src\\biked_commons\\design_evaluation\\../..\\biked_commons\\prediction\\usability_predictors.py:37: FutureWarning: You are using `torch.load` with `weights_only=False` (the current default value), which uses the default pickle module implicitly. It is possible to construct malicious pickle data which will execute arbitrary code during unpickling (See https://github.com/pytorch/pytorch/blob/main/SECURITY.md#untrusted-models for more details). In a future release, the default value for `weights_only` will be flipped to `True`. This limits the functions that could be executed during unpickling. Arbitrary objects will no longer be allowed to be loaded via this mode unless they are explicitly allowlisted by the user via `torch.serialization.add_safe_globals`. We recommend you start setting `weights_only=True` for any use case where you don't have full control of the loaded file. Please open an issue on GitHub for any issues related to this experimental feature.\n",
      "  checkpoint = torch.load(_MLP_MODEL_PATH)\n",
      "c:\\Users\\Lyler\\Documents\\biked-commons\\src\\biked_commons\\design_evaluation\\../..\\biked_commons\\design_evaluation\\design_evaluation.py:39: FutureWarning: You are using `torch.load` with `weights_only=False` (the current default value), which uses the default pickle module implicitly. It is possible to construct malicious pickle data which will execute arbitrary code during unpickling (See https://github.com/pytorch/pytorch/blob/main/SECURITY.md#untrusted-models for more details). In a future release, the default value for `weights_only` will be flipped to `True`. This limits the functions that could be executed during unpickling. Arbitrary objects will no longer be allowed to be loaded via this mode unless they are explicitly allowlisted by the user via `torch.serialization.add_safe_globals`. We recommend you start setting `weights_only=True` for any use case where you don't have full control of the loaded file. Please open an issue on GitHub for any issues related to this experimental feature.\n",
      "  self.model = torch.load(model_path).to(self.device)\n"
     ]
    }
   ],
   "source": [
    "\n",
    "StandardEvaluations: List[EvaluationFunction] = [\n",
    "    UsabilityEvaluator(),\n",
    "    AeroEvaluator(),\n",
    "    ErgonomicsEvaluator(),\n",
    "]\n",
    "evaluator, return_names = construct_tensor_evaluator(StandardEvaluations, data.columns)"
   ]
  },
  {
   "cell_type": "code",
   "execution_count": 4,
   "id": "eeee4ca5",
   "metadata": {},
   "outputs": [
    {
     "data": {
      "text/plain": [
       "['Usability Score - 0 to 1',\n",
       " 'Drag Force',\n",
       " 'Knee Angle Error',\n",
       " 'Hip Angle Error',\n",
       " 'Arm Angle Error']"
      ]
     },
     "execution_count": 4,
     "metadata": {},
     "output_type": "execute_result"
    }
   ],
   "source": [
    "return_names"
   ]
  },
  {
   "cell_type": "code",
   "execution_count": 5,
   "id": "cb55564f",
   "metadata": {},
   "outputs": [],
   "source": [
    "condition = {\"Rider\": rider1, \"Use Case\": \"mtb\"}\n"
   ]
  },
  {
   "cell_type": "code",
   "execution_count": 6,
   "id": "51000099",
   "metadata": {},
   "outputs": [],
   "source": [
    "res = evaluator(torch.tensor(data.values), condition)"
   ]
  },
  {
   "cell_type": "code",
   "execution_count": 7,
   "id": "e05adba1",
   "metadata": {},
   "outputs": [
    {
     "data": {
      "text/plain": [
       "torch.return_types.min(\n",
       "values=tensor([-2.8427e-01,         nan,  3.2217e-05,         nan,         nan],\n",
       "       grad_fn=<MinBackward0>),\n",
       "indices=tensor([2948,  136, 3348,  136,  136]))"
      ]
     },
     "execution_count": 7,
     "metadata": {},
     "output_type": "execute_result"
    }
   ],
   "source": [
    "torch.min(res, dim=0)"
   ]
  },
  {
   "cell_type": "code",
   "execution_count": 8,
   "id": "5a827f75",
   "metadata": {},
   "outputs": [
    {
     "data": {
      "text/plain": [
       "tensor([[  0.5265,  23.8938,   0.8513, 112.8701, 162.0000],\n",
       "        [  0.2212,   6.6659,  62.0934,   1.8330, 126.2396],\n",
       "        [  0.4809,  26.5204,   1.8961,  86.1161, 162.0000],\n",
       "        ...,\n",
       "        [  0.3368,  23.7364,   4.3629, 129.0400, 162.0000],\n",
       "        [  0.3506,  23.7956,   4.3632, 127.0632, 162.0000],\n",
       "        [  0.5507,  23.9212,   0.6076, 114.6340, 162.0000]],\n",
       "       grad_fn=<CopySlices>)"
      ]
     },
     "execution_count": 8,
     "metadata": {},
     "output_type": "execute_result"
    }
   ],
   "source": [
    "res"
   ]
  },
  {
   "cell_type": "code",
   "execution_count": 9,
   "id": "9b67aa95",
   "metadata": {},
   "outputs": [],
   "source": [
    "df_evaluator = construct_dataframe_evaluator(StandardEvaluations)"
   ]
  },
  {
   "cell_type": "code",
   "execution_count": 10,
   "id": "a60943db",
   "metadata": {},
   "outputs": [
    {
     "data": {
      "text/html": [
       "<div>\n",
       "<style scoped>\n",
       "    .dataframe tbody tr th:only-of-type {\n",
       "        vertical-align: middle;\n",
       "    }\n",
       "\n",
       "    .dataframe tbody tr th {\n",
       "        vertical-align: top;\n",
       "    }\n",
       "\n",
       "    .dataframe thead th {\n",
       "        text-align: right;\n",
       "    }\n",
       "</style>\n",
       "<table border=\"1\" class=\"dataframe\">\n",
       "  <thead>\n",
       "    <tr style=\"text-align: right;\">\n",
       "      <th></th>\n",
       "      <th>Usability Score - 0 to 1</th>\n",
       "      <th>Drag Force</th>\n",
       "      <th>Knee Angle Error</th>\n",
       "      <th>Hip Angle Error</th>\n",
       "      <th>Arm Angle Error</th>\n",
       "    </tr>\n",
       "  </thead>\n",
       "  <tbody>\n",
       "    <tr>\n",
       "      <th>1</th>\n",
       "      <td>0.526528</td>\n",
       "      <td>23.893837</td>\n",
       "      <td>0.851329</td>\n",
       "      <td>112.870125</td>\n",
       "      <td>162.000000</td>\n",
       "    </tr>\n",
       "    <tr>\n",
       "      <th>2</th>\n",
       "      <td>0.221181</td>\n",
       "      <td>6.665854</td>\n",
       "      <td>62.093441</td>\n",
       "      <td>1.833037</td>\n",
       "      <td>126.239311</td>\n",
       "    </tr>\n",
       "    <tr>\n",
       "      <th>3</th>\n",
       "      <td>0.480893</td>\n",
       "      <td>26.520409</td>\n",
       "      <td>1.896088</td>\n",
       "      <td>86.116112</td>\n",
       "      <td>162.000000</td>\n",
       "    </tr>\n",
       "    <tr>\n",
       "      <th>4</th>\n",
       "      <td>0.646960</td>\n",
       "      <td>23.976753</td>\n",
       "      <td>21.904676</td>\n",
       "      <td>66.675987</td>\n",
       "      <td>23.378975</td>\n",
       "    </tr>\n",
       "    <tr>\n",
       "      <th>5</th>\n",
       "      <td>0.226224</td>\n",
       "      <td>8.861248</td>\n",
       "      <td>59.083408</td>\n",
       "      <td>1.590320</td>\n",
       "      <td>19.168602</td>\n",
       "    </tr>\n",
       "    <tr>\n",
       "      <th>...</th>\n",
       "      <td>...</td>\n",
       "      <td>...</td>\n",
       "      <td>...</td>\n",
       "      <td>...</td>\n",
       "      <td>...</td>\n",
       "    </tr>\n",
       "    <tr>\n",
       "      <th>4796</th>\n",
       "      <td>0.522583</td>\n",
       "      <td>26.114365</td>\n",
       "      <td>7.876004</td>\n",
       "      <td>62.071312</td>\n",
       "      <td>44.155468</td>\n",
       "    </tr>\n",
       "    <tr>\n",
       "      <th>4797</th>\n",
       "      <td>0.654805</td>\n",
       "      <td>24.833109</td>\n",
       "      <td>8.097001</td>\n",
       "      <td>47.523182</td>\n",
       "      <td>1.721420</td>\n",
       "    </tr>\n",
       "    <tr>\n",
       "      <th>4798</th>\n",
       "      <td>0.336759</td>\n",
       "      <td>23.736444</td>\n",
       "      <td>4.362939</td>\n",
       "      <td>129.039963</td>\n",
       "      <td>162.000000</td>\n",
       "    </tr>\n",
       "    <tr>\n",
       "      <th>4799</th>\n",
       "      <td>0.350591</td>\n",
       "      <td>23.795582</td>\n",
       "      <td>4.363165</td>\n",
       "      <td>127.063210</td>\n",
       "      <td>162.000000</td>\n",
       "    </tr>\n",
       "    <tr>\n",
       "      <th>4800</th>\n",
       "      <td>0.550674</td>\n",
       "      <td>23.921246</td>\n",
       "      <td>0.607584</td>\n",
       "      <td>114.634033</td>\n",
       "      <td>162.000000</td>\n",
       "    </tr>\n",
       "  </tbody>\n",
       "</table>\n",
       "<p>4512 rows × 5 columns</p>\n",
       "</div>"
      ],
      "text/plain": [
       "      Usability Score - 0 to 1  Drag Force  Knee Angle Error  Hip Angle Error  \\\n",
       "1                     0.526528   23.893837          0.851329       112.870125   \n",
       "2                     0.221181    6.665854         62.093441         1.833037   \n",
       "3                     0.480893   26.520409          1.896088        86.116112   \n",
       "4                     0.646960   23.976753         21.904676        66.675987   \n",
       "5                     0.226224    8.861248         59.083408         1.590320   \n",
       "...                        ...         ...               ...              ...   \n",
       "4796                  0.522583   26.114365          7.876004        62.071312   \n",
       "4797                  0.654805   24.833109          8.097001        47.523182   \n",
       "4798                  0.336759   23.736444          4.362939       129.039963   \n",
       "4799                  0.350591   23.795582          4.363165       127.063210   \n",
       "4800                  0.550674   23.921246          0.607584       114.634033   \n",
       "\n",
       "      Arm Angle Error  \n",
       "1          162.000000  \n",
       "2          126.239311  \n",
       "3          162.000000  \n",
       "4           23.378975  \n",
       "5           19.168602  \n",
       "...               ...  \n",
       "4796        44.155468  \n",
       "4797         1.721420  \n",
       "4798       162.000000  \n",
       "4799       162.000000  \n",
       "4800       162.000000  \n",
       "\n",
       "[4512 rows x 5 columns]"
      ]
     },
     "execution_count": 10,
     "metadata": {},
     "output_type": "execute_result"
    }
   ],
   "source": [
    "df_evaluator(data, condition)"
   ]
  },
  {
   "cell_type": "code",
   "execution_count": null,
   "id": "298eb706",
   "metadata": {},
   "outputs": [],
   "source": []
  }
 ],
 "metadata": {
  "kernelspec": {
   "display_name": "torch",
   "language": "python",
   "name": "python3"
  },
  "language_info": {
   "codemirror_mode": {
    "name": "ipython",
    "version": 3
   },
   "file_extension": ".py",
   "mimetype": "text/x-python",
   "name": "python",
   "nbconvert_exporter": "python",
   "pygments_lexer": "ipython3",
   "version": "3.12.8"
  }
 },
 "nbformat": 4,
 "nbformat_minor": 5
}

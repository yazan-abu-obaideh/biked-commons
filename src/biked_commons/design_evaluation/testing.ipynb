{
 "cells": [
  {
   "cell_type": "code",
   "execution_count": 1,
   "id": "f43f23b9",
   "metadata": {},
   "outputs": [],
   "source": [
    "import pandas as pd\n",
    "import numpy as np\n",
    "import torch\n",
    "import os\n",
    "import sys\n",
    "from tqdm import tqdm, trange\n",
    "\n",
    "sys.path.append(\"../../\")\n",
    "import biked_commons\n",
    "from biked_commons.design_evaluation.design_evaluation import *"
   ]
  },
  {
   "cell_type": "code",
   "execution_count": 2,
   "id": "1d9cef99",
   "metadata": {},
   "outputs": [],
   "source": [
    "data = pd.read_csv(\"../../resources/datasets/split_datasets/CLIP_X_test.csv\", index_col=0)\n",
    "data1 = torch.tensor(data.iloc[0:1].values)"
   ]
  },
  {
   "cell_type": "code",
   "execution_count": 3,
   "id": "3d820086",
   "metadata": {},
   "outputs": [
    {
     "name": "stderr",
     "output_type": "stream",
     "text": [
      "c:\\Users\\Lyler\\mambaforge\\envs\\torch\\Lib\\site-packages\\sklearn\\base.py:380: InconsistentVersionWarning: Trying to unpickle estimator MinMaxScaler from version 1.6.1 when using version 1.6.0. This might lead to breaking code or invalid results. Use at your own risk. For more info please refer to:\n",
      "https://scikit-learn.org/stable/model_persistence.html#security-maintainability-limitations\n",
      "  warnings.warn(\n",
      "c:\\Users\\Lyler\\Documents\\biked-commons\\src\\biked_commons\\design_evaluation\\../..\\biked_commons\\prediction\\usability_predictors.py:37: FutureWarning: You are using `torch.load` with `weights_only=False` (the current default value), which uses the default pickle module implicitly. It is possible to construct malicious pickle data which will execute arbitrary code during unpickling (See https://github.com/pytorch/pytorch/blob/main/SECURITY.md#untrusted-models for more details). In a future release, the default value for `weights_only` will be flipped to `True`. This limits the functions that could be executed during unpickling. Arbitrary objects will no longer be allowed to be loaded via this mode unless they are explicitly allowlisted by the user via `torch.serialization.add_safe_globals`. We recommend you start setting `weights_only=True` for any use case where you don't have full control of the loaded file. Please open an issue on GitHub for any issues related to this experimental feature.\n",
      "  checkpoint = torch.load(_MLP_MODEL_PATH)\n"
     ]
    }
   ],
   "source": [
    "\n",
    "StandardEvaluations: List[EvaluationFunction] = [\n",
    "    UsabilityEvaluator(),\n",
    "]\n",
    "\n",
    "evaluator, return_names = construct_tensor_evaluator(StandardEvaluations, data.columns)"
   ]
  },
  {
   "cell_type": "code",
   "execution_count": 4,
   "id": "51000099",
   "metadata": {},
   "outputs": [],
   "source": [
    "res = evaluator(torch.tensor(data.values))"
   ]
  },
  {
   "cell_type": "code",
   "execution_count": 5,
   "id": "5a827f75",
   "metadata": {},
   "outputs": [
    {
     "name": "stdout",
     "output_type": "stream",
     "text": [
      "tensor([0.8569], grad_fn=<UnbindBackward0>)\n"
     ]
    }
   ],
   "source": [
    "print(max(res))"
   ]
  },
  {
   "cell_type": "code",
   "execution_count": 6,
   "id": "9b67aa95",
   "metadata": {},
   "outputs": [],
   "source": [
    "df_evaluator = construct_dataframe_evaluator(StandardEvaluations)"
   ]
  },
  {
   "cell_type": "code",
   "execution_count": 7,
   "id": "a60943db",
   "metadata": {},
   "outputs": [
    {
     "data": {
      "text/html": [
       "<div>\n",
       "<style scoped>\n",
       "    .dataframe tbody tr th:only-of-type {\n",
       "        vertical-align: middle;\n",
       "    }\n",
       "\n",
       "    .dataframe tbody tr th {\n",
       "        vertical-align: top;\n",
       "    }\n",
       "\n",
       "    .dataframe thead th {\n",
       "        text-align: right;\n",
       "    }\n",
       "</style>\n",
       "<table border=\"1\" class=\"dataframe\">\n",
       "  <thead>\n",
       "    <tr style=\"text-align: right;\">\n",
       "      <th></th>\n",
       "      <th>Usability Score - 0 to 1</th>\n",
       "    </tr>\n",
       "  </thead>\n",
       "  <tbody>\n",
       "    <tr>\n",
       "      <th>1</th>\n",
       "      <td>0.526528</td>\n",
       "    </tr>\n",
       "    <tr>\n",
       "      <th>2</th>\n",
       "      <td>0.221181</td>\n",
       "    </tr>\n",
       "    <tr>\n",
       "      <th>3</th>\n",
       "      <td>0.480893</td>\n",
       "    </tr>\n",
       "    <tr>\n",
       "      <th>4</th>\n",
       "      <td>0.646960</td>\n",
       "    </tr>\n",
       "    <tr>\n",
       "      <th>5</th>\n",
       "      <td>0.226224</td>\n",
       "    </tr>\n",
       "    <tr>\n",
       "      <th>...</th>\n",
       "      <td>...</td>\n",
       "    </tr>\n",
       "    <tr>\n",
       "      <th>4796</th>\n",
       "      <td>0.522583</td>\n",
       "    </tr>\n",
       "    <tr>\n",
       "      <th>4797</th>\n",
       "      <td>0.654805</td>\n",
       "    </tr>\n",
       "    <tr>\n",
       "      <th>4798</th>\n",
       "      <td>0.336759</td>\n",
       "    </tr>\n",
       "    <tr>\n",
       "      <th>4799</th>\n",
       "      <td>0.350591</td>\n",
       "    </tr>\n",
       "    <tr>\n",
       "      <th>4800</th>\n",
       "      <td>0.550674</td>\n",
       "    </tr>\n",
       "  </tbody>\n",
       "</table>\n",
       "<p>4512 rows × 1 columns</p>\n",
       "</div>"
      ],
      "text/plain": [
       "      Usability Score - 0 to 1\n",
       "1                     0.526528\n",
       "2                     0.221181\n",
       "3                     0.480893\n",
       "4                     0.646960\n",
       "5                     0.226224\n",
       "...                        ...\n",
       "4796                  0.522583\n",
       "4797                  0.654805\n",
       "4798                  0.336759\n",
       "4799                  0.350591\n",
       "4800                  0.550674\n",
       "\n",
       "[4512 rows x 1 columns]"
      ]
     },
     "execution_count": 7,
     "metadata": {},
     "output_type": "execute_result"
    }
   ],
   "source": [
    "df_evaluator(data)"
   ]
  },
  {
   "cell_type": "code",
   "execution_count": null,
   "id": "298eb706",
   "metadata": {},
   "outputs": [],
   "source": []
  }
 ],
 "metadata": {
  "kernelspec": {
   "display_name": "torch",
   "language": "python",
   "name": "python3"
  },
  "language_info": {
   "codemirror_mode": {
    "name": "ipython",
    "version": 3
   },
   "file_extension": ".py",
   "mimetype": "text/x-python",
   "name": "python",
   "nbconvert_exporter": "python",
   "pygments_lexer": "ipython3",
   "version": "3.12.8"
  }
 },
 "nbformat": 4,
 "nbformat_minor": 5
}
